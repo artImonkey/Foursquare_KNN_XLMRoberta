{
 "cells": [
  {
   "cell_type": "markdown",
   "metadata": {},
   "source": [
    "# Generate \"NonMatch\" pairs for train"
   ]
  },
  {
   "cell_type": "code",
   "execution_count": 1,
   "metadata": {},
   "outputs": [],
   "source": [
    "import pandas as pd\n",
    "from tqdm import tqdm\n",
    "from additional_funcs import coordDistance,similar\n",
    "import os\n",
    "import random\n",
    "import time\n",
    "from sklearn.preprocessing import StandardScaler\n",
    "from sklearn.neighbors import NearestNeighbors\n",
    "import numpy as np"
   ]
  },
  {
   "cell_type": "code",
   "execution_count": 2,
   "metadata": {},
   "outputs": [],
   "source": [
    "data = pd.read_csv('datasets/train.csv')\n",
    "data = data.drop(columns=['address','city','state','zip','country','url','phone'])"
   ]
  },
  {
   "cell_type": "code",
   "execution_count": 3,
   "metadata": {},
   "outputs": [
    {
     "data": {
      "text/html": [
       "<div>\n",
       "<style scoped>\n",
       "    .dataframe tbody tr th:only-of-type {\n",
       "        vertical-align: middle;\n",
       "    }\n",
       "\n",
       "    .dataframe tbody tr th {\n",
       "        vertical-align: top;\n",
       "    }\n",
       "\n",
       "    .dataframe thead th {\n",
       "        text-align: right;\n",
       "    }\n",
       "</style>\n",
       "<table border=\"1\" class=\"dataframe\">\n",
       "  <thead>\n",
       "    <tr style=\"text-align: right;\">\n",
       "      <th></th>\n",
       "      <th>id</th>\n",
       "      <th>name</th>\n",
       "      <th>latitude</th>\n",
       "      <th>longitude</th>\n",
       "      <th>categories</th>\n",
       "      <th>point_of_interest</th>\n",
       "    </tr>\n",
       "  </thead>\n",
       "  <tbody>\n",
       "    <tr>\n",
       "      <th>0</th>\n",
       "      <td>E_000001272c6c5d</td>\n",
       "      <td>Café Stad Oudenaarde</td>\n",
       "      <td>50.859975</td>\n",
       "      <td>3.634196</td>\n",
       "      <td>Bars</td>\n",
       "      <td>P_677e840bb6fc7e</td>\n",
       "    </tr>\n",
       "    <tr>\n",
       "      <th>1</th>\n",
       "      <td>E_000002eae2a589</td>\n",
       "      <td>Carioca Manero</td>\n",
       "      <td>-22.907225</td>\n",
       "      <td>-43.178244</td>\n",
       "      <td>Brazilian Restaurants</td>\n",
       "      <td>P_d82910d8382a83</td>\n",
       "    </tr>\n",
       "    <tr>\n",
       "      <th>2</th>\n",
       "      <td>E_000007f24ebc95</td>\n",
       "      <td>ร้านตัดผมการาเกด</td>\n",
       "      <td>13.780813</td>\n",
       "      <td>100.484900</td>\n",
       "      <td>Salons / Barbershops</td>\n",
       "      <td>P_b1066599e78477</td>\n",
       "    </tr>\n",
       "    <tr>\n",
       "      <th>3</th>\n",
       "      <td>E_000008a8ba4f48</td>\n",
       "      <td>Turkcell</td>\n",
       "      <td>37.844510</td>\n",
       "      <td>27.844202</td>\n",
       "      <td>Mobile Phone Shops</td>\n",
       "      <td>P_b2ed86905a4cd3</td>\n",
       "    </tr>\n",
       "    <tr>\n",
       "      <th>4</th>\n",
       "      <td>E_00001d92066153</td>\n",
       "      <td>Restaurante Casa Cofiño</td>\n",
       "      <td>43.338196</td>\n",
       "      <td>-4.326821</td>\n",
       "      <td>Spanish Restaurants</td>\n",
       "      <td>P_809a884d4407fb</td>\n",
       "    </tr>\n",
       "    <tr>\n",
       "      <th>...</th>\n",
       "      <td>...</td>\n",
       "      <td>...</td>\n",
       "      <td>...</td>\n",
       "      <td>...</td>\n",
       "      <td>...</td>\n",
       "      <td>...</td>\n",
       "    </tr>\n",
       "    <tr>\n",
       "      <th>1138807</th>\n",
       "      <td>E_ffffb80854f713</td>\n",
       "      <td>青ガエル</td>\n",
       "      <td>35.659020</td>\n",
       "      <td>139.700780</td>\n",
       "      <td>NaN</td>\n",
       "      <td>P_7ccbeab96cd82e</td>\n",
       "    </tr>\n",
       "    <tr>\n",
       "      <th>1138808</th>\n",
       "      <td>E_ffffbf9a83e0ba</td>\n",
       "      <td>Deshon Place</td>\n",
       "      <td>40.872116</td>\n",
       "      <td>-79.945343</td>\n",
       "      <td>Housing Developments</td>\n",
       "      <td>P_db0abc418e7365</td>\n",
       "    </tr>\n",
       "    <tr>\n",
       "      <th>1138809</th>\n",
       "      <td>E_ffffc572b4d35b</td>\n",
       "      <td>İzmir Adnan Menderes Havaalanı</td>\n",
       "      <td>38.423733</td>\n",
       "      <td>27.142826</td>\n",
       "      <td>Airport Services</td>\n",
       "      <td>P_ae96252a6a9380</td>\n",
       "    </tr>\n",
       "    <tr>\n",
       "      <th>1138810</th>\n",
       "      <td>E_ffffca745329ed</td>\n",
       "      <td>焼肉 和家</td>\n",
       "      <td>35.710712</td>\n",
       "      <td>139.775000</td>\n",
       "      <td>BBQ Joints</td>\n",
       "      <td>P_146662f246d418</td>\n",
       "    </tr>\n",
       "    <tr>\n",
       "      <th>1138811</th>\n",
       "      <td>E_ffffe6f4652fbb</td>\n",
       "      <td>Waihi Beach</td>\n",
       "      <td>-37.417042</td>\n",
       "      <td>175.950466</td>\n",
       "      <td>Surf Spots</td>\n",
       "      <td>P_ea6578bf39b406</td>\n",
       "    </tr>\n",
       "  </tbody>\n",
       "</table>\n",
       "<p>1138812 rows × 6 columns</p>\n",
       "</div>"
      ],
      "text/plain": [
       "                       id                            name   latitude  \\\n",
       "0        E_000001272c6c5d            Café Stad Oudenaarde  50.859975   \n",
       "1        E_000002eae2a589                  Carioca Manero -22.907225   \n",
       "2        E_000007f24ebc95                ร้านตัดผมการาเกด  13.780813   \n",
       "3        E_000008a8ba4f48                        Turkcell  37.844510   \n",
       "4        E_00001d92066153         Restaurante Casa Cofiño  43.338196   \n",
       "...                   ...                             ...        ...   \n",
       "1138807  E_ffffb80854f713                            青ガエル  35.659020   \n",
       "1138808  E_ffffbf9a83e0ba                    Deshon Place  40.872116   \n",
       "1138809  E_ffffc572b4d35b  İzmir Adnan Menderes Havaalanı  38.423733   \n",
       "1138810  E_ffffca745329ed                           焼肉 和家  35.710712   \n",
       "1138811  E_ffffe6f4652fbb                     Waihi Beach -37.417042   \n",
       "\n",
       "          longitude             categories point_of_interest  \n",
       "0          3.634196                   Bars  P_677e840bb6fc7e  \n",
       "1        -43.178244  Brazilian Restaurants  P_d82910d8382a83  \n",
       "2        100.484900   Salons / Barbershops  P_b1066599e78477  \n",
       "3         27.844202     Mobile Phone Shops  P_b2ed86905a4cd3  \n",
       "4         -4.326821    Spanish Restaurants  P_809a884d4407fb  \n",
       "...             ...                    ...               ...  \n",
       "1138807  139.700780                    NaN  P_7ccbeab96cd82e  \n",
       "1138808  -79.945343   Housing Developments  P_db0abc418e7365  \n",
       "1138809   27.142826       Airport Services  P_ae96252a6a9380  \n",
       "1138810  139.775000             BBQ Joints  P_146662f246d418  \n",
       "1138811  175.950466             Surf Spots  P_ea6578bf39b406  \n",
       "\n",
       "[1138812 rows x 6 columns]"
      ]
     },
     "execution_count": 3,
     "metadata": {},
     "output_type": "execute_result"
    }
   ],
   "source": [
    "data"
   ]
  },
  {
   "cell_type": "code",
   "execution_count": 4,
   "metadata": {},
   "outputs": [],
   "source": [
    "# download dict with_all matches\n",
    "answers_df = pd.read_csv('train_df_for_scoring.csv')\n",
    "train_scoring_dict = answers_df.set_index('id').to_dict()['matches']\n",
    "for ind in train_scoring_dict:\n",
    "    train_scoring_dict[ind] = set(train_scoring_dict[ind].split())"
   ]
  },
  {
   "cell_type": "code",
   "execution_count": 5,
   "metadata": {},
   "outputs": [],
   "source": [
    "def generatePairsIds(init_data, train_scoring_dict, n_neighbours = 7 ):\n",
    "    #import scaler and scale\n",
    "    data = init_data.copy()\n",
    "    scaler= StandardScaler()\n",
    "    num_features = ['latitude','longitude']\n",
    "    data[num_features] = scaler.fit_transform(data[num_features])\n",
    "    \n",
    "    X = data[['latitude','longitude']]\n",
    "    \n",
    "    # apply KNN\n",
    "    nbrs = NearestNeighbors(n_neighbors = n_neighbours, algorithm='kd_tree').fit(X)\n",
    "    indices = nbrs.kneighbors(X,return_distance=False)\n",
    "    indices_set = list(map(set,indices))\n",
    "    \n",
    "    # remove any duplicated pairs: if we have a=b, delete b=a\n",
    "    for primary_id in tqdm(range(len(indices_set))):\n",
    "        ind_set = indices_set[primary_id]\n",
    "        if primary_id in ind_set:\n",
    "            ind_set.remove(primary_id)\n",
    "        ids_to_remove = []\n",
    "        for secondary_id in ind_set:\n",
    "            # check if entries belong to one poi\n",
    "            if init_data.iloc[secondary_id]['id'] in train_scoring_dict[init_data.iloc[primary_id]['id']]:\n",
    "                ids_to_remove.append(secondary_id)\n",
    "            if primary_id in indices_set[secondary_id]:\n",
    "                indices_set[secondary_id].remove(primary_id)\n",
    "        for id_to_remove in ids_to_remove:\n",
    "            ind_set.remove(id_to_remove)\n",
    "    count = 0\n",
    "    for i in indices_set:\n",
    "        count += len(i)\n",
    "    print(f'{count} pairs ids generated')\n",
    "    return indices_set"
   ]
  },
  {
   "cell_type": "code",
   "execution_count": 6,
   "metadata": {},
   "outputs": [
    {
     "name": "stderr",
     "output_type": "stream",
     "text": [
      "100%|██████████████████████████████████████████████████████████████████████| 1138812/1138812 [05:47<00:00, 3273.09it/s]\n"
     ]
    },
    {
     "name": "stdout",
     "output_type": "stream",
     "text": [
      "1291452 pairs ids generated\n"
     ]
    }
   ],
   "source": [
    "ind_set = generatePairsIds(data, train_scoring_dict, n_neighbours = 3)"
   ]
  },
  {
   "cell_type": "code",
   "execution_count": 7,
   "metadata": {},
   "outputs": [],
   "source": [
    "def generatePairsDf(data, ind_set):\n",
    "    pairs_locations =  []\n",
    "    for primary_id in range(len(ind_set)):\n",
    "        neighbours = ind_set[primary_id]\n",
    "        if len(neighbours) > 0:\n",
    "            for neighbour_id in neighbours:\n",
    "                pairs_locations.append([primary_id, neighbour_id])\n",
    "    \n",
    "    pairs_locations = np.array(pairs_locations)\n",
    "    result_df = pd.concat([data.iloc[pairs_locations[:,0]].reset_index(drop=True),\n",
    "                           data.iloc[pairs_locations[:,1]].reset_index(drop=True)],axis = 1)\n",
    "    result_df['match'] = [False for _ in range(len(result_df))]\n",
    "    result_df.columns = ['id_1','name_1','latitude_1','longitude_1','categories_1', 'poi1',\n",
    "                            'id_2','name_2','latitude_2','longitude_2', 'categories_2','poi2','match']\n",
    "    return result_df"
   ]
  },
  {
   "cell_type": "code",
   "execution_count": 8,
   "metadata": {},
   "outputs": [],
   "source": [
    "# generate DF from indices set\n",
    "pairs_df = generatePairsDf(data, ind_set)"
   ]
  },
  {
   "cell_type": "code",
   "execution_count": 9,
   "metadata": {},
   "outputs": [],
   "source": [
    "pairs_df.to_csv('pairs/nonmatching_pairs.csv', index = False)"
   ]
  }
 ],
 "metadata": {
  "kernelspec": {
   "display_name": "Python 3",
   "language": "python",
   "name": "python3"
  },
  "language_info": {
   "codemirror_mode": {
    "name": "ipython",
    "version": 3
   },
   "file_extension": ".py",
   "mimetype": "text/x-python",
   "name": "python",
   "nbconvert_exporter": "python",
   "pygments_lexer": "ipython3",
   "version": "3.8.5"
  }
 },
 "nbformat": 4,
 "nbformat_minor": 4
}
