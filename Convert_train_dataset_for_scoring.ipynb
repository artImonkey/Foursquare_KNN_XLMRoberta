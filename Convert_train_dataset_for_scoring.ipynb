{
 "cells": [
  {
   "cell_type": "markdown",
   "metadata": {},
   "source": [
    "# Converting initial dataset for fast scoring"
   ]
  },
  {
   "cell_type": "code",
   "execution_count": null,
   "metadata": {},
   "outputs": [],
   "source": [
    "import pandas as pd"
   ]
  },
  {
   "cell_type": "code",
   "execution_count": null,
   "metadata": {},
   "outputs": [],
   "source": [
    "#Import train dataset\n",
    "raw_data = pd.read_csv('train.csv')\n",
    "raw_data['name'] = raw_data['name'].map(lambda x: unidecode(str(x)))\n",
    "raw_data['categories'] = raw_data['categories'].map(lambda x: unidecode(str(x)))\n",
    "data = raw_data.drop(columns=['address','city','state','zip','country','url','phone'])"
   ]
  },
  {
   "cell_type": "code",
   "execution_count": null,
   "metadata": {},
   "outputs": [],
   "source": [
    "#Creating dataframe directly would take O(n^2), so let's make dict with pois as a keys and than make dataframe out of dict.\n",
    "#It will take linear time\n",
    "train_dict = {}\n",
    "for _,row in tqdm(data.iterrows()):\n",
    "    if train_dict.get(row['point_of_interest']):\n",
    "        train_dict[row['point_of_interest']].append(row['id'])\n",
    "    else:\n",
    "        train_dict[row['point_of_interest']] = [row['id']]\n",
    "        \n",
    "train_df_for_scoring = pd.DataFrame(columns = ['id','matches'])\n",
    "for poi in tqdm(train_dict):\n",
    "    #concatDf(train_df_for_scoring,poi,train_dict)\n",
    "\n",
    "    for ind in train_dict[poi]:\n",
    "        matches = ' '.join(train_dict[poi])\n",
    "        train_df_for_scoring = pd.concat([train_df_for_scoring,pd.DataFrame({'id': [ind],\n",
    "                                                                             'matches':[matches]})],\n",
    "                                                                            ignore_index = True)\n",
    "    \n",
    "train_df_for_scoring.to_csv('train_df_for_scoring.csv',index = False)\n",
    "print(train_df_for_scoring.head())"
   ]
  }
 ],
 "metadata": {
  "kernelspec": {
   "display_name": "Python 3",
   "language": "python",
   "name": "python3"
  },
  "language_info": {
   "codemirror_mode": {
    "name": "ipython",
    "version": 3
   },
   "file_extension": ".py",
   "mimetype": "text/x-python",
   "name": "python",
   "nbconvert_exporter": "python",
   "pygments_lexer": "ipython3",
   "version": "3.8.5"
  }
 },
 "nbformat": 4,
 "nbformat_minor": 4
}
